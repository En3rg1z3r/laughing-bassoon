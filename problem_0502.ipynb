{
 "cells": [
  {
   "cell_type": "markdown",
   "source": [
    "## Quiz #0502"
   ],
   "metadata": {}
  },
  {
   "cell_type": "markdown",
   "source": [
    "### \"Human Activity Recognition\" "
   ],
   "metadata": {}
  },
  {
   "cell_type": "markdown",
   "source": [
    "#### Answer the following questions by providing Python code:\n",
    "#### Objectives:\n",
    "- Carry out the EDA.\n",
    "- Carry out the data pre-processing.\n",
    "- Optimize and test a predictive model of your choice."
   ],
   "metadata": {}
  },
  {
   "cell_type": "code",
   "execution_count": 190,
   "source": [
    "import numpy as np\n",
    "import pandas as pd\n",
    "import matplotlib.pyplot as plt\n",
    "import seaborn as sns\n",
    "import os\n",
    "import warnings\n",
    "from sklearn.model_selection import train_test_split, GridSearchCV\n",
    "from sklearn.neighbors import KNeighborsClassifier\n",
    "from sklearn.tree import DecisionTreeClassifier\n",
    "from sklearn.ensemble import RandomForestClassifier,AdaBoostClassifier, GradientBoostingClassifier\n",
    "from xgboost import XGBClassifier\n",
    "from sklearn import metrics, preprocessing\n",
    "\n",
    "warnings.filterwarnings(action='ignore')                  # Turn off the warnings.\n",
    "%matplotlib inline"
   ],
   "outputs": [],
   "metadata": {}
  },
  {
   "cell_type": "markdown",
   "source": [
    "#### Read in data:\n",
    "The explanation on the dataset can be found [here](https://archive.ics.uci.edu/ml/datasets/human+activity+recognition+using+smartphones)."
   ],
   "metadata": {}
  },
  {
   "cell_type": "code",
   "execution_count": 191,
   "source": [
    "# Go to the directory where the data file is located. \n",
    "# os.chdir(r'~~')                # Please, replace the path with your own. "
   ],
   "outputs": [],
   "metadata": {}
  },
  {
   "cell_type": "code",
   "execution_count": 192,
   "source": [
    "df = pd.read_csv('Data/data_human activity recognition.csv', header='infer')"
   ],
   "outputs": [],
   "metadata": {}
  },
  {
   "cell_type": "code",
   "execution_count": 193,
   "source": [
    "df.shape"
   ],
   "outputs": [
    {
     "output_type": "execute_result",
     "data": {
      "text/plain": [
       "(19622, 160)"
      ]
     },
     "metadata": {},
     "execution_count": 193
    }
   ],
   "metadata": {}
  },
  {
   "cell_type": "code",
   "execution_count": 194,
   "source": [
    "df.columns"
   ],
   "outputs": [
    {
     "output_type": "execute_result",
     "data": {
      "text/plain": [
       "Index(['Unnamed: 0', 'user_name', 'raw_timestamp_part_1',\n",
       "       'raw_timestamp_part_2', 'cvtd_timestamp', 'new_window', 'num_window',\n",
       "       'roll_belt', 'pitch_belt', 'yaw_belt',\n",
       "       ...\n",
       "       'gyros_forearm_x', 'gyros_forearm_y', 'gyros_forearm_z',\n",
       "       'accel_forearm_x', 'accel_forearm_y', 'accel_forearm_z',\n",
       "       'magnet_forearm_x', 'magnet_forearm_y', 'magnet_forearm_z', 'classe'],\n",
       "      dtype='object', length=160)"
      ]
     },
     "metadata": {},
     "execution_count": 194
    }
   ],
   "metadata": {}
  },
  {
   "cell_type": "markdown",
   "source": [
    "1). Carry out the EDA. Check for the missing values. HINT: The response variable is 'classe'."
   ],
   "metadata": {}
  },
  {
   "cell_type": "code",
   "execution_count": 195,
   "source": [
    "df.isnull().sum().sum()"
   ],
   "outputs": [
    {
     "output_type": "execute_result",
     "data": {
      "text/plain": [
       "1921600"
      ]
     },
     "metadata": {},
     "execution_count": 195
    }
   ],
   "metadata": {}
  },
  {
   "cell_type": "markdown",
   "source": [
    "2). Get rid of the columns that have more than 97% missing values."
   ],
   "metadata": {}
  },
  {
   "cell_type": "code",
   "execution_count": 196,
   "source": [
    "null = df.isnull().sum() * 100 / len(df)\n",
    "null[null>97] \n",
    "df.drop(null[null>97].index.tolist(), axis=1, inplace=True)\n",
    "df"
   ],
   "outputs": [
    {
     "output_type": "execute_result",
     "data": {
      "text/plain": [
       "       Unnamed: 0 user_name  raw_timestamp_part_1  raw_timestamp_part_2  \\\n",
       "0               1  carlitos            1323084231                788290   \n",
       "1               2  carlitos            1323084231                808298   \n",
       "2               3  carlitos            1323084231                820366   \n",
       "3               4  carlitos            1323084232                120339   \n",
       "4               5  carlitos            1323084232                196328   \n",
       "...           ...       ...                   ...                   ...   \n",
       "19617       19618    adelmo            1322832937                588376   \n",
       "19618       19619    adelmo            1322832937                596287   \n",
       "19619       19620    adelmo            1322832937                636283   \n",
       "19620       19621    adelmo            1322832937                964299   \n",
       "19621       19622    adelmo            1322832937                972293   \n",
       "\n",
       "         cvtd_timestamp new_window  num_window  roll_belt  pitch_belt  \\\n",
       "0      05/12/2011 11:23         no          11       1.41        8.07   \n",
       "1      05/12/2011 11:23         no          11       1.41        8.07   \n",
       "2      05/12/2011 11:23         no          11       1.42        8.07   \n",
       "3      05/12/2011 11:23         no          12       1.48        8.05   \n",
       "4      05/12/2011 11:23         no          12       1.48        8.07   \n",
       "...                 ...        ...         ...        ...         ...   \n",
       "19617  02/12/2011 13:35         no         864     147.00      -34.80   \n",
       "19618  02/12/2011 13:35         no         864     145.00      -35.30   \n",
       "19619  02/12/2011 13:35         no         864     145.00      -35.50   \n",
       "19620  02/12/2011 13:35         no         864     143.00      -35.90   \n",
       "19621  02/12/2011 13:35        yes         864     143.00      -36.00   \n",
       "\n",
       "       yaw_belt  ...  gyros_forearm_x  gyros_forearm_y  gyros_forearm_z  \\\n",
       "0         -94.4  ...             0.03             0.00            -0.02   \n",
       "1         -94.4  ...             0.02             0.00            -0.02   \n",
       "2         -94.4  ...             0.03            -0.02             0.00   \n",
       "3         -94.4  ...             0.02            -0.02             0.00   \n",
       "4         -94.4  ...             0.02             0.00            -0.02   \n",
       "...         ...  ...              ...              ...              ...   \n",
       "19617     129.0  ...             1.73            -1.75            -0.25   \n",
       "19618     130.0  ...             1.59            -1.36             0.00   \n",
       "19619     130.0  ...             1.54            -1.20             0.05   \n",
       "19620     131.0  ...             1.48            -0.90             0.05   \n",
       "19621     132.0  ...             1.38            -0.64             0.08   \n",
       "\n",
       "       accel_forearm_x  accel_forearm_y  accel_forearm_z  magnet_forearm_x  \\\n",
       "0                  192              203             -215               -17   \n",
       "1                  192              203             -216               -18   \n",
       "2                  196              204             -213               -18   \n",
       "3                  189              206             -214               -16   \n",
       "4                  189              206             -214               -17   \n",
       "...                ...              ...              ...               ...   \n",
       "19617             -271              -68              -37              -205   \n",
       "19618             -271              -91              -43              -151   \n",
       "19619             -263              -99              -45              -116   \n",
       "19620             -270             -141              -51               -68   \n",
       "19621             -278             -159              -52               -60   \n",
       "\n",
       "       magnet_forearm_y  magnet_forearm_z  classe  \n",
       "0                 654.0             476.0       A  \n",
       "1                 661.0             473.0       A  \n",
       "2                 658.0             469.0       A  \n",
       "3                 658.0             469.0       A  \n",
       "4                 655.0             473.0       A  \n",
       "...                 ...               ...     ...  \n",
       "19617            -587.0               6.0       E  \n",
       "19618            -635.0             -36.0       E  \n",
       "19619            -654.0             -70.0       E  \n",
       "19620            -678.0             -98.0       E  \n",
       "19621            -686.0            -110.0       E  \n",
       "\n",
       "[19622 rows x 60 columns]"
      ],
      "text/html": [
       "<div>\n",
       "<style scoped>\n",
       "    .dataframe tbody tr th:only-of-type {\n",
       "        vertical-align: middle;\n",
       "    }\n",
       "\n",
       "    .dataframe tbody tr th {\n",
       "        vertical-align: top;\n",
       "    }\n",
       "\n",
       "    .dataframe thead th {\n",
       "        text-align: right;\n",
       "    }\n",
       "</style>\n",
       "<table border=\"1\" class=\"dataframe\">\n",
       "  <thead>\n",
       "    <tr style=\"text-align: right;\">\n",
       "      <th></th>\n",
       "      <th>Unnamed: 0</th>\n",
       "      <th>user_name</th>\n",
       "      <th>raw_timestamp_part_1</th>\n",
       "      <th>raw_timestamp_part_2</th>\n",
       "      <th>cvtd_timestamp</th>\n",
       "      <th>new_window</th>\n",
       "      <th>num_window</th>\n",
       "      <th>roll_belt</th>\n",
       "      <th>pitch_belt</th>\n",
       "      <th>yaw_belt</th>\n",
       "      <th>...</th>\n",
       "      <th>gyros_forearm_x</th>\n",
       "      <th>gyros_forearm_y</th>\n",
       "      <th>gyros_forearm_z</th>\n",
       "      <th>accel_forearm_x</th>\n",
       "      <th>accel_forearm_y</th>\n",
       "      <th>accel_forearm_z</th>\n",
       "      <th>magnet_forearm_x</th>\n",
       "      <th>magnet_forearm_y</th>\n",
       "      <th>magnet_forearm_z</th>\n",
       "      <th>classe</th>\n",
       "    </tr>\n",
       "  </thead>\n",
       "  <tbody>\n",
       "    <tr>\n",
       "      <th>0</th>\n",
       "      <td>1</td>\n",
       "      <td>carlitos</td>\n",
       "      <td>1323084231</td>\n",
       "      <td>788290</td>\n",
       "      <td>05/12/2011 11:23</td>\n",
       "      <td>no</td>\n",
       "      <td>11</td>\n",
       "      <td>1.41</td>\n",
       "      <td>8.07</td>\n",
       "      <td>-94.4</td>\n",
       "      <td>...</td>\n",
       "      <td>0.03</td>\n",
       "      <td>0.00</td>\n",
       "      <td>-0.02</td>\n",
       "      <td>192</td>\n",
       "      <td>203</td>\n",
       "      <td>-215</td>\n",
       "      <td>-17</td>\n",
       "      <td>654.0</td>\n",
       "      <td>476.0</td>\n",
       "      <td>A</td>\n",
       "    </tr>\n",
       "    <tr>\n",
       "      <th>1</th>\n",
       "      <td>2</td>\n",
       "      <td>carlitos</td>\n",
       "      <td>1323084231</td>\n",
       "      <td>808298</td>\n",
       "      <td>05/12/2011 11:23</td>\n",
       "      <td>no</td>\n",
       "      <td>11</td>\n",
       "      <td>1.41</td>\n",
       "      <td>8.07</td>\n",
       "      <td>-94.4</td>\n",
       "      <td>...</td>\n",
       "      <td>0.02</td>\n",
       "      <td>0.00</td>\n",
       "      <td>-0.02</td>\n",
       "      <td>192</td>\n",
       "      <td>203</td>\n",
       "      <td>-216</td>\n",
       "      <td>-18</td>\n",
       "      <td>661.0</td>\n",
       "      <td>473.0</td>\n",
       "      <td>A</td>\n",
       "    </tr>\n",
       "    <tr>\n",
       "      <th>2</th>\n",
       "      <td>3</td>\n",
       "      <td>carlitos</td>\n",
       "      <td>1323084231</td>\n",
       "      <td>820366</td>\n",
       "      <td>05/12/2011 11:23</td>\n",
       "      <td>no</td>\n",
       "      <td>11</td>\n",
       "      <td>1.42</td>\n",
       "      <td>8.07</td>\n",
       "      <td>-94.4</td>\n",
       "      <td>...</td>\n",
       "      <td>0.03</td>\n",
       "      <td>-0.02</td>\n",
       "      <td>0.00</td>\n",
       "      <td>196</td>\n",
       "      <td>204</td>\n",
       "      <td>-213</td>\n",
       "      <td>-18</td>\n",
       "      <td>658.0</td>\n",
       "      <td>469.0</td>\n",
       "      <td>A</td>\n",
       "    </tr>\n",
       "    <tr>\n",
       "      <th>3</th>\n",
       "      <td>4</td>\n",
       "      <td>carlitos</td>\n",
       "      <td>1323084232</td>\n",
       "      <td>120339</td>\n",
       "      <td>05/12/2011 11:23</td>\n",
       "      <td>no</td>\n",
       "      <td>12</td>\n",
       "      <td>1.48</td>\n",
       "      <td>8.05</td>\n",
       "      <td>-94.4</td>\n",
       "      <td>...</td>\n",
       "      <td>0.02</td>\n",
       "      <td>-0.02</td>\n",
       "      <td>0.00</td>\n",
       "      <td>189</td>\n",
       "      <td>206</td>\n",
       "      <td>-214</td>\n",
       "      <td>-16</td>\n",
       "      <td>658.0</td>\n",
       "      <td>469.0</td>\n",
       "      <td>A</td>\n",
       "    </tr>\n",
       "    <tr>\n",
       "      <th>4</th>\n",
       "      <td>5</td>\n",
       "      <td>carlitos</td>\n",
       "      <td>1323084232</td>\n",
       "      <td>196328</td>\n",
       "      <td>05/12/2011 11:23</td>\n",
       "      <td>no</td>\n",
       "      <td>12</td>\n",
       "      <td>1.48</td>\n",
       "      <td>8.07</td>\n",
       "      <td>-94.4</td>\n",
       "      <td>...</td>\n",
       "      <td>0.02</td>\n",
       "      <td>0.00</td>\n",
       "      <td>-0.02</td>\n",
       "      <td>189</td>\n",
       "      <td>206</td>\n",
       "      <td>-214</td>\n",
       "      <td>-17</td>\n",
       "      <td>655.0</td>\n",
       "      <td>473.0</td>\n",
       "      <td>A</td>\n",
       "    </tr>\n",
       "    <tr>\n",
       "      <th>...</th>\n",
       "      <td>...</td>\n",
       "      <td>...</td>\n",
       "      <td>...</td>\n",
       "      <td>...</td>\n",
       "      <td>...</td>\n",
       "      <td>...</td>\n",
       "      <td>...</td>\n",
       "      <td>...</td>\n",
       "      <td>...</td>\n",
       "      <td>...</td>\n",
       "      <td>...</td>\n",
       "      <td>...</td>\n",
       "      <td>...</td>\n",
       "      <td>...</td>\n",
       "      <td>...</td>\n",
       "      <td>...</td>\n",
       "      <td>...</td>\n",
       "      <td>...</td>\n",
       "      <td>...</td>\n",
       "      <td>...</td>\n",
       "      <td>...</td>\n",
       "    </tr>\n",
       "    <tr>\n",
       "      <th>19617</th>\n",
       "      <td>19618</td>\n",
       "      <td>adelmo</td>\n",
       "      <td>1322832937</td>\n",
       "      <td>588376</td>\n",
       "      <td>02/12/2011 13:35</td>\n",
       "      <td>no</td>\n",
       "      <td>864</td>\n",
       "      <td>147.00</td>\n",
       "      <td>-34.80</td>\n",
       "      <td>129.0</td>\n",
       "      <td>...</td>\n",
       "      <td>1.73</td>\n",
       "      <td>-1.75</td>\n",
       "      <td>-0.25</td>\n",
       "      <td>-271</td>\n",
       "      <td>-68</td>\n",
       "      <td>-37</td>\n",
       "      <td>-205</td>\n",
       "      <td>-587.0</td>\n",
       "      <td>6.0</td>\n",
       "      <td>E</td>\n",
       "    </tr>\n",
       "    <tr>\n",
       "      <th>19618</th>\n",
       "      <td>19619</td>\n",
       "      <td>adelmo</td>\n",
       "      <td>1322832937</td>\n",
       "      <td>596287</td>\n",
       "      <td>02/12/2011 13:35</td>\n",
       "      <td>no</td>\n",
       "      <td>864</td>\n",
       "      <td>145.00</td>\n",
       "      <td>-35.30</td>\n",
       "      <td>130.0</td>\n",
       "      <td>...</td>\n",
       "      <td>1.59</td>\n",
       "      <td>-1.36</td>\n",
       "      <td>0.00</td>\n",
       "      <td>-271</td>\n",
       "      <td>-91</td>\n",
       "      <td>-43</td>\n",
       "      <td>-151</td>\n",
       "      <td>-635.0</td>\n",
       "      <td>-36.0</td>\n",
       "      <td>E</td>\n",
       "    </tr>\n",
       "    <tr>\n",
       "      <th>19619</th>\n",
       "      <td>19620</td>\n",
       "      <td>adelmo</td>\n",
       "      <td>1322832937</td>\n",
       "      <td>636283</td>\n",
       "      <td>02/12/2011 13:35</td>\n",
       "      <td>no</td>\n",
       "      <td>864</td>\n",
       "      <td>145.00</td>\n",
       "      <td>-35.50</td>\n",
       "      <td>130.0</td>\n",
       "      <td>...</td>\n",
       "      <td>1.54</td>\n",
       "      <td>-1.20</td>\n",
       "      <td>0.05</td>\n",
       "      <td>-263</td>\n",
       "      <td>-99</td>\n",
       "      <td>-45</td>\n",
       "      <td>-116</td>\n",
       "      <td>-654.0</td>\n",
       "      <td>-70.0</td>\n",
       "      <td>E</td>\n",
       "    </tr>\n",
       "    <tr>\n",
       "      <th>19620</th>\n",
       "      <td>19621</td>\n",
       "      <td>adelmo</td>\n",
       "      <td>1322832937</td>\n",
       "      <td>964299</td>\n",
       "      <td>02/12/2011 13:35</td>\n",
       "      <td>no</td>\n",
       "      <td>864</td>\n",
       "      <td>143.00</td>\n",
       "      <td>-35.90</td>\n",
       "      <td>131.0</td>\n",
       "      <td>...</td>\n",
       "      <td>1.48</td>\n",
       "      <td>-0.90</td>\n",
       "      <td>0.05</td>\n",
       "      <td>-270</td>\n",
       "      <td>-141</td>\n",
       "      <td>-51</td>\n",
       "      <td>-68</td>\n",
       "      <td>-678.0</td>\n",
       "      <td>-98.0</td>\n",
       "      <td>E</td>\n",
       "    </tr>\n",
       "    <tr>\n",
       "      <th>19621</th>\n",
       "      <td>19622</td>\n",
       "      <td>adelmo</td>\n",
       "      <td>1322832937</td>\n",
       "      <td>972293</td>\n",
       "      <td>02/12/2011 13:35</td>\n",
       "      <td>yes</td>\n",
       "      <td>864</td>\n",
       "      <td>143.00</td>\n",
       "      <td>-36.00</td>\n",
       "      <td>132.0</td>\n",
       "      <td>...</td>\n",
       "      <td>1.38</td>\n",
       "      <td>-0.64</td>\n",
       "      <td>0.08</td>\n",
       "      <td>-278</td>\n",
       "      <td>-159</td>\n",
       "      <td>-52</td>\n",
       "      <td>-60</td>\n",
       "      <td>-686.0</td>\n",
       "      <td>-110.0</td>\n",
       "      <td>E</td>\n",
       "    </tr>\n",
       "  </tbody>\n",
       "</table>\n",
       "<p>19622 rows × 60 columns</p>\n",
       "</div>"
      ]
     },
     "metadata": {},
     "execution_count": 196
    }
   ],
   "metadata": {}
  },
  {
   "cell_type": "markdown",
   "source": [
    "3). Get rid of the unnecessary columns. HINT: Those columns with \"time\" in the name and those that are obviously unnecessary."
   ],
   "metadata": {}
  },
  {
   "cell_type": "code",
   "execution_count": 197,
   "source": [
    "df.drop([\"Unnamed: 0\", \"user_name\"]+[tc for tc in df.columns.tolist() if 'time' in tc], axis=1, inplace=True)\n",
    "df[\"new_window\"]=df.new_window.map((dict(yes=1, no=0)))\n"
   ],
   "outputs": [],
   "metadata": {}
  },
  {
   "cell_type": "markdown",
   "source": [
    "4). Label encode the responde variable. HINT: use preprocessing.LabelEncoder(). "
   ],
   "metadata": {}
  },
  {
   "cell_type": "code",
   "execution_count": 198,
   "source": [
    "labelEnc = preprocessing.LabelEncoder()\n",
    "df[\"classe\"] = labelEnc.fit_transform(df[\"classe\"])\n",
    "df[\"classe\"]"
   ],
   "outputs": [
    {
     "output_type": "execute_result",
     "data": {
      "text/plain": [
       "0        0\n",
       "1        0\n",
       "2        0\n",
       "3        0\n",
       "4        0\n",
       "        ..\n",
       "19617    4\n",
       "19618    4\n",
       "19619    4\n",
       "19620    4\n",
       "19621    4\n",
       "Name: classe, Length: 19622, dtype: int64"
      ]
     },
     "metadata": {},
     "execution_count": 198
    }
   ],
   "metadata": {}
  },
  {
   "cell_type": "markdown",
   "source": [
    "5). Carry out min-max scaling of the exploratory variables. HINT: use preprocessing.MinMaxScaler()."
   ],
   "metadata": {}
  },
  {
   "cell_type": "code",
   "execution_count": 199,
   "source": [
    "scaler = preprocessing.MinMaxScaler()\n",
    "scaled = scaler.fit_transform(df.drop(\"classe\", axis=1))"
   ],
   "outputs": [],
   "metadata": {}
  },
  {
   "cell_type": "markdown",
   "source": [
    "6). Choose an algorithm and carry out the predictive analysis.\n",
    "\n",
    "- Optimize the hyperparameter(s)\n",
    "- Calculate the accuracy.\n",
    "- Aim for upper 90% accuracy."
   ],
   "metadata": {}
  },
  {
   "cell_type": "code",
   "execution_count": 200,
   "source": [
    "X_train, X_test, y_train, y_test = train_test_split(scaled, df.classe, random_state=123)"
   ],
   "outputs": [],
   "metadata": {}
  },
  {
   "cell_type": "code",
   "execution_count": 205,
   "source": [
    "score = []\n",
    "for i in range(1,30):\n",
    "    knn = KNeighborsClassifier(n_neighbors=i)\n",
    "    knn.fit(X_train, y_train)\n",
    "    y_pred = knn.predict(X_test)\n",
    "    score.append(metrics.accuracy_score(y_test, y_pred))\n",
    "plt.plot([i for i in range(1,30)], score)\n"
   ],
   "outputs": [
    {
     "output_type": "execute_result",
     "data": {
      "text/plain": [
       "[<matplotlib.lines.Line2D at 0x7f15fd042850>]"
      ]
     },
     "metadata": {},
     "execution_count": 205
    },
    {
     "output_type": "display_data",
     "data": {
      "text/plain": [
       "<Figure size 432x288 with 1 Axes>"
      ],
      "image/svg+xml": "<?xml version=\"1.0\" encoding=\"utf-8\" standalone=\"no\"?>\n<!DOCTYPE svg PUBLIC \"-//W3C//DTD SVG 1.1//EN\"\n  \"http://www.w3.org/Graphics/SVG/1.1/DTD/svg11.dtd\">\n<svg height=\"248.518125pt\" version=\"1.1\" viewBox=\"0 0 380.480073 248.518125\" width=\"380.480073pt\" xmlns=\"http://www.w3.org/2000/svg\" xmlns:xlink=\"http://www.w3.org/1999/xlink\">\n <metadata>\n  <rdf:RDF xmlns:cc=\"http://creativecommons.org/ns#\" xmlns:dc=\"http://purl.org/dc/elements/1.1/\" xmlns:rdf=\"http://www.w3.org/1999/02/22-rdf-syntax-ns#\">\n   <cc:Work>\n    <dc:type rdf:resource=\"http://purl.org/dc/dcmitype/StillImage\"/>\n    <dc:date>2021-08-22T12:53:55.722879</dc:date>\n    <dc:format>image/svg+xml</dc:format>\n    <dc:creator>\n     <cc:Agent>\n      <dc:title>Matplotlib v3.4.2, https://matplotlib.org/</dc:title>\n     </cc:Agent>\n    </dc:creator>\n   </cc:Work>\n  </rdf:RDF>\n </metadata>\n <defs>\n  <style type=\"text/css\">*{stroke-linecap:butt;stroke-linejoin:round;}</style>\n </defs>\n <g id=\"figure_1\">\n  <g id=\"patch_1\">\n   <path d=\"M 0 248.518125 \nL 380.480073 248.518125 \nL 380.480073 0 \nL 0 0 \nz\n\" style=\"fill:none;\"/>\n  </g>\n  <g id=\"axes_1\">\n   <g id=\"patch_2\">\n    <path d=\"M 36.465625 224.64 \nL 371.265625 224.64 \nL 371.265625 7.2 \nL 36.465625 7.2 \nz\n\" style=\"fill:#ffffff;\"/>\n   </g>\n   <g id=\"matplotlib.axis_1\">\n    <g id=\"xtick_1\">\n     <g id=\"line2d_1\">\n      <defs>\n       <path d=\"M 0 0 \nL 0 3.5 \n\" id=\"mf3cb24ba76\" style=\"stroke:#000000;stroke-width:0.8;\"/>\n      </defs>\n      <g>\n       <use style=\"stroke:#000000;stroke-width:0.8;\" x=\"40.813677\" xlink:href=\"#mf3cb24ba76\" y=\"224.64\"/>\n      </g>\n     </g>\n     <g id=\"text_1\">\n      <!-- 0 -->\n      <g transform=\"translate(37.632427 239.238437)scale(0.1 -0.1)\">\n       <defs>\n        <path d=\"M 2034 4250 \nQ 1547 4250 1301 3770 \nQ 1056 3291 1056 2328 \nQ 1056 1369 1301 889 \nQ 1547 409 2034 409 \nQ 2525 409 2770 889 \nQ 3016 1369 3016 2328 \nQ 3016 3291 2770 3770 \nQ 2525 4250 2034 4250 \nz\nM 2034 4750 \nQ 2819 4750 3233 4129 \nQ 3647 3509 3647 2328 \nQ 3647 1150 3233 529 \nQ 2819 -91 2034 -91 \nQ 1250 -91 836 529 \nQ 422 1150 422 2328 \nQ 422 3509 836 4129 \nQ 1250 4750 2034 4750 \nz\n\" id=\"DejaVuSans-30\" transform=\"scale(0.015625)\"/>\n       </defs>\n       <use xlink:href=\"#DejaVuSans-30\"/>\n      </g>\n     </g>\n    </g>\n    <g id=\"xtick_2\">\n     <g id=\"line2d_2\">\n      <g>\n       <use style=\"stroke:#000000;stroke-width:0.8;\" x=\"95.164326\" xlink:href=\"#mf3cb24ba76\" y=\"224.64\"/>\n      </g>\n     </g>\n     <g id=\"text_2\">\n      <!-- 5 -->\n      <g transform=\"translate(91.983076 239.238437)scale(0.1 -0.1)\">\n       <defs>\n        <path d=\"M 691 4666 \nL 3169 4666 \nL 3169 4134 \nL 1269 4134 \nL 1269 2991 \nQ 1406 3038 1543 3061 \nQ 1681 3084 1819 3084 \nQ 2600 3084 3056 2656 \nQ 3513 2228 3513 1497 \nQ 3513 744 3044 326 \nQ 2575 -91 1722 -91 \nQ 1428 -91 1123 -41 \nQ 819 9 494 109 \nL 494 744 \nQ 775 591 1075 516 \nQ 1375 441 1709 441 \nQ 2250 441 2565 725 \nQ 2881 1009 2881 1497 \nQ 2881 1984 2565 2268 \nQ 2250 2553 1709 2553 \nQ 1456 2553 1204 2497 \nQ 953 2441 691 2322 \nL 691 4666 \nz\n\" id=\"DejaVuSans-35\" transform=\"scale(0.015625)\"/>\n       </defs>\n       <use xlink:href=\"#DejaVuSans-35\"/>\n      </g>\n     </g>\n    </g>\n    <g id=\"xtick_3\">\n     <g id=\"line2d_3\">\n      <g>\n       <use style=\"stroke:#000000;stroke-width:0.8;\" x=\"149.514976\" xlink:href=\"#mf3cb24ba76\" y=\"224.64\"/>\n      </g>\n     </g>\n     <g id=\"text_3\">\n      <!-- 10 -->\n      <g transform=\"translate(143.152476 239.238437)scale(0.1 -0.1)\">\n       <defs>\n        <path d=\"M 794 531 \nL 1825 531 \nL 1825 4091 \nL 703 3866 \nL 703 4441 \nL 1819 4666 \nL 2450 4666 \nL 2450 531 \nL 3481 531 \nL 3481 0 \nL 794 0 \nL 794 531 \nz\n\" id=\"DejaVuSans-31\" transform=\"scale(0.015625)\"/>\n       </defs>\n       <use xlink:href=\"#DejaVuSans-31\"/>\n       <use x=\"63.623047\" xlink:href=\"#DejaVuSans-30\"/>\n      </g>\n     </g>\n    </g>\n    <g id=\"xtick_4\">\n     <g id=\"line2d_4\">\n      <g>\n       <use style=\"stroke:#000000;stroke-width:0.8;\" x=\"203.865625\" xlink:href=\"#mf3cb24ba76\" y=\"224.64\"/>\n      </g>\n     </g>\n     <g id=\"text_4\">\n      <!-- 15 -->\n      <g transform=\"translate(197.503125 239.238437)scale(0.1 -0.1)\">\n       <use xlink:href=\"#DejaVuSans-31\"/>\n       <use x=\"63.623047\" xlink:href=\"#DejaVuSans-35\"/>\n      </g>\n     </g>\n    </g>\n    <g id=\"xtick_5\">\n     <g id=\"line2d_5\">\n      <g>\n       <use style=\"stroke:#000000;stroke-width:0.8;\" x=\"258.216274\" xlink:href=\"#mf3cb24ba76\" y=\"224.64\"/>\n      </g>\n     </g>\n     <g id=\"text_5\">\n      <!-- 20 -->\n      <g transform=\"translate(251.853774 239.238437)scale(0.1 -0.1)\">\n       <defs>\n        <path d=\"M 1228 531 \nL 3431 531 \nL 3431 0 \nL 469 0 \nL 469 531 \nQ 828 903 1448 1529 \nQ 2069 2156 2228 2338 \nQ 2531 2678 2651 2914 \nQ 2772 3150 2772 3378 \nQ 2772 3750 2511 3984 \nQ 2250 4219 1831 4219 \nQ 1534 4219 1204 4116 \nQ 875 4013 500 3803 \nL 500 4441 \nQ 881 4594 1212 4672 \nQ 1544 4750 1819 4750 \nQ 2544 4750 2975 4387 \nQ 3406 4025 3406 3419 \nQ 3406 3131 3298 2873 \nQ 3191 2616 2906 2266 \nQ 2828 2175 2409 1742 \nQ 1991 1309 1228 531 \nz\n\" id=\"DejaVuSans-32\" transform=\"scale(0.015625)\"/>\n       </defs>\n       <use xlink:href=\"#DejaVuSans-32\"/>\n       <use x=\"63.623047\" xlink:href=\"#DejaVuSans-30\"/>\n      </g>\n     </g>\n    </g>\n    <g id=\"xtick_6\">\n     <g id=\"line2d_6\">\n      <g>\n       <use style=\"stroke:#000000;stroke-width:0.8;\" x=\"312.566924\" xlink:href=\"#mf3cb24ba76\" y=\"224.64\"/>\n      </g>\n     </g>\n     <g id=\"text_6\">\n      <!-- 25 -->\n      <g transform=\"translate(306.204424 239.238437)scale(0.1 -0.1)\">\n       <use xlink:href=\"#DejaVuSans-32\"/>\n       <use x=\"63.623047\" xlink:href=\"#DejaVuSans-35\"/>\n      </g>\n     </g>\n    </g>\n    <g id=\"xtick_7\">\n     <g id=\"line2d_7\">\n      <g>\n       <use style=\"stroke:#000000;stroke-width:0.8;\" x=\"366.917573\" xlink:href=\"#mf3cb24ba76\" y=\"224.64\"/>\n      </g>\n     </g>\n     <g id=\"text_7\">\n      <!-- 30 -->\n      <g transform=\"translate(360.555073 239.238437)scale(0.1 -0.1)\">\n       <defs>\n        <path d=\"M 2597 2516 \nQ 3050 2419 3304 2112 \nQ 3559 1806 3559 1356 \nQ 3559 666 3084 287 \nQ 2609 -91 1734 -91 \nQ 1441 -91 1130 -33 \nQ 819 25 488 141 \nL 488 750 \nQ 750 597 1062 519 \nQ 1375 441 1716 441 \nQ 2309 441 2620 675 \nQ 2931 909 2931 1356 \nQ 2931 1769 2642 2001 \nQ 2353 2234 1838 2234 \nL 1294 2234 \nL 1294 2753 \nL 1863 2753 \nQ 2328 2753 2575 2939 \nQ 2822 3125 2822 3475 \nQ 2822 3834 2567 4026 \nQ 2313 4219 1838 4219 \nQ 1578 4219 1281 4162 \nQ 984 4106 628 3988 \nL 628 4550 \nQ 988 4650 1302 4700 \nQ 1616 4750 1894 4750 \nQ 2613 4750 3031 4423 \nQ 3450 4097 3450 3541 \nQ 3450 3153 3228 2886 \nQ 3006 2619 2597 2516 \nz\n\" id=\"DejaVuSans-33\" transform=\"scale(0.015625)\"/>\n       </defs>\n       <use xlink:href=\"#DejaVuSans-33\"/>\n       <use x=\"63.623047\" xlink:href=\"#DejaVuSans-30\"/>\n      </g>\n     </g>\n    </g>\n   </g>\n   <g id=\"matplotlib.axis_2\">\n    <g id=\"ytick_1\">\n     <g id=\"line2d_8\">\n      <defs>\n       <path d=\"M 0 0 \nL -3.5 0 \n\" id=\"m38b81a9451\" style=\"stroke:#000000;stroke-width:0.8;\"/>\n      </defs>\n      <g>\n       <use style=\"stroke:#000000;stroke-width:0.8;\" x=\"36.465625\" xlink:href=\"#m38b81a9451\" y=\"215.685818\"/>\n      </g>\n     </g>\n     <g id=\"text_8\">\n      <!-- 0.86 -->\n      <g transform=\"translate(7.2 219.485037)scale(0.1 -0.1)\">\n       <defs>\n        <path d=\"M 684 794 \nL 1344 794 \nL 1344 0 \nL 684 0 \nL 684 794 \nz\n\" id=\"DejaVuSans-2e\" transform=\"scale(0.015625)\"/>\n        <path d=\"M 2034 2216 \nQ 1584 2216 1326 1975 \nQ 1069 1734 1069 1313 \nQ 1069 891 1326 650 \nQ 1584 409 2034 409 \nQ 2484 409 2743 651 \nQ 3003 894 3003 1313 \nQ 3003 1734 2745 1975 \nQ 2488 2216 2034 2216 \nz\nM 1403 2484 \nQ 997 2584 770 2862 \nQ 544 3141 544 3541 \nQ 544 4100 942 4425 \nQ 1341 4750 2034 4750 \nQ 2731 4750 3128 4425 \nQ 3525 4100 3525 3541 \nQ 3525 3141 3298 2862 \nQ 3072 2584 2669 2484 \nQ 3125 2378 3379 2068 \nQ 3634 1759 3634 1313 \nQ 3634 634 3220 271 \nQ 2806 -91 2034 -91 \nQ 1263 -91 848 271 \nQ 434 634 434 1313 \nQ 434 1759 690 2068 \nQ 947 2378 1403 2484 \nz\nM 1172 3481 \nQ 1172 3119 1398 2916 \nQ 1625 2713 2034 2713 \nQ 2441 2713 2670 2916 \nQ 2900 3119 2900 3481 \nQ 2900 3844 2670 4047 \nQ 2441 4250 2034 4250 \nQ 1625 4250 1398 4047 \nQ 1172 3844 1172 3481 \nz\n\" id=\"DejaVuSans-38\" transform=\"scale(0.015625)\"/>\n        <path d=\"M 2113 2584 \nQ 1688 2584 1439 2293 \nQ 1191 2003 1191 1497 \nQ 1191 994 1439 701 \nQ 1688 409 2113 409 \nQ 2538 409 2786 701 \nQ 3034 994 3034 1497 \nQ 3034 2003 2786 2293 \nQ 2538 2584 2113 2584 \nz\nM 3366 4563 \nL 3366 3988 \nQ 3128 4100 2886 4159 \nQ 2644 4219 2406 4219 \nQ 1781 4219 1451 3797 \nQ 1122 3375 1075 2522 \nQ 1259 2794 1537 2939 \nQ 1816 3084 2150 3084 \nQ 2853 3084 3261 2657 \nQ 3669 2231 3669 1497 \nQ 3669 778 3244 343 \nQ 2819 -91 2113 -91 \nQ 1303 -91 875 529 \nQ 447 1150 447 2328 \nQ 447 3434 972 4092 \nQ 1497 4750 2381 4750 \nQ 2619 4750 2861 4703 \nQ 3103 4656 3366 4563 \nz\n\" id=\"DejaVuSans-36\" transform=\"scale(0.015625)\"/>\n       </defs>\n       <use xlink:href=\"#DejaVuSans-30\"/>\n       <use x=\"63.623047\" xlink:href=\"#DejaVuSans-2e\"/>\n       <use x=\"95.410156\" xlink:href=\"#DejaVuSans-38\"/>\n       <use x=\"159.033203\" xlink:href=\"#DejaVuSans-36\"/>\n      </g>\n     </g>\n    </g>\n    <g id=\"ytick_2\">\n     <g id=\"line2d_9\">\n      <g>\n       <use style=\"stroke:#000000;stroke-width:0.8;\" x=\"36.465625\" xlink:href=\"#m38b81a9451\" y=\"183.573818\"/>\n      </g>\n     </g>\n     <g id=\"text_9\">\n      <!-- 0.88 -->\n      <g transform=\"translate(7.2 187.373037)scale(0.1 -0.1)\">\n       <use xlink:href=\"#DejaVuSans-30\"/>\n       <use x=\"63.623047\" xlink:href=\"#DejaVuSans-2e\"/>\n       <use x=\"95.410156\" xlink:href=\"#DejaVuSans-38\"/>\n       <use x=\"159.033203\" xlink:href=\"#DejaVuSans-38\"/>\n      </g>\n     </g>\n    </g>\n    <g id=\"ytick_3\">\n     <g id=\"line2d_10\">\n      <g>\n       <use style=\"stroke:#000000;stroke-width:0.8;\" x=\"36.465625\" xlink:href=\"#m38b81a9451\" y=\"151.461818\"/>\n      </g>\n     </g>\n     <g id=\"text_10\">\n      <!-- 0.90 -->\n      <g transform=\"translate(7.2 155.261037)scale(0.1 -0.1)\">\n       <defs>\n        <path d=\"M 703 97 \nL 703 672 \nQ 941 559 1184 500 \nQ 1428 441 1663 441 \nQ 2288 441 2617 861 \nQ 2947 1281 2994 2138 \nQ 2813 1869 2534 1725 \nQ 2256 1581 1919 1581 \nQ 1219 1581 811 2004 \nQ 403 2428 403 3163 \nQ 403 3881 828 4315 \nQ 1253 4750 1959 4750 \nQ 2769 4750 3195 4129 \nQ 3622 3509 3622 2328 \nQ 3622 1225 3098 567 \nQ 2575 -91 1691 -91 \nQ 1453 -91 1209 -44 \nQ 966 3 703 97 \nz\nM 1959 2075 \nQ 2384 2075 2632 2365 \nQ 2881 2656 2881 3163 \nQ 2881 3666 2632 3958 \nQ 2384 4250 1959 4250 \nQ 1534 4250 1286 3958 \nQ 1038 3666 1038 3163 \nQ 1038 2656 1286 2365 \nQ 1534 2075 1959 2075 \nz\n\" id=\"DejaVuSans-39\" transform=\"scale(0.015625)\"/>\n       </defs>\n       <use xlink:href=\"#DejaVuSans-30\"/>\n       <use x=\"63.623047\" xlink:href=\"#DejaVuSans-2e\"/>\n       <use x=\"95.410156\" xlink:href=\"#DejaVuSans-39\"/>\n       <use x=\"159.033203\" xlink:href=\"#DejaVuSans-30\"/>\n      </g>\n     </g>\n    </g>\n    <g id=\"ytick_4\">\n     <g id=\"line2d_11\">\n      <g>\n       <use style=\"stroke:#000000;stroke-width:0.8;\" x=\"36.465625\" xlink:href=\"#m38b81a9451\" y=\"119.349818\"/>\n      </g>\n     </g>\n     <g id=\"text_11\">\n      <!-- 0.92 -->\n      <g transform=\"translate(7.2 123.149037)scale(0.1 -0.1)\">\n       <use xlink:href=\"#DejaVuSans-30\"/>\n       <use x=\"63.623047\" xlink:href=\"#DejaVuSans-2e\"/>\n       <use x=\"95.410156\" xlink:href=\"#DejaVuSans-39\"/>\n       <use x=\"159.033203\" xlink:href=\"#DejaVuSans-32\"/>\n      </g>\n     </g>\n    </g>\n    <g id=\"ytick_5\">\n     <g id=\"line2d_12\">\n      <g>\n       <use style=\"stroke:#000000;stroke-width:0.8;\" x=\"36.465625\" xlink:href=\"#m38b81a9451\" y=\"87.237818\"/>\n      </g>\n     </g>\n     <g id=\"text_12\">\n      <!-- 0.94 -->\n      <g transform=\"translate(7.2 91.037037)scale(0.1 -0.1)\">\n       <defs>\n        <path d=\"M 2419 4116 \nL 825 1625 \nL 2419 1625 \nL 2419 4116 \nz\nM 2253 4666 \nL 3047 4666 \nL 3047 1625 \nL 3713 1625 \nL 3713 1100 \nL 3047 1100 \nL 3047 0 \nL 2419 0 \nL 2419 1100 \nL 313 1100 \nL 313 1709 \nL 2253 4666 \nz\n\" id=\"DejaVuSans-34\" transform=\"scale(0.015625)\"/>\n       </defs>\n       <use xlink:href=\"#DejaVuSans-30\"/>\n       <use x=\"63.623047\" xlink:href=\"#DejaVuSans-2e\"/>\n       <use x=\"95.410156\" xlink:href=\"#DejaVuSans-39\"/>\n       <use x=\"159.033203\" xlink:href=\"#DejaVuSans-34\"/>\n      </g>\n     </g>\n    </g>\n    <g id=\"ytick_6\">\n     <g id=\"line2d_13\">\n      <g>\n       <use style=\"stroke:#000000;stroke-width:0.8;\" x=\"36.465625\" xlink:href=\"#m38b81a9451\" y=\"55.125818\"/>\n      </g>\n     </g>\n     <g id=\"text_13\">\n      <!-- 0.96 -->\n      <g transform=\"translate(7.2 58.925037)scale(0.1 -0.1)\">\n       <use xlink:href=\"#DejaVuSans-30\"/>\n       <use x=\"63.623047\" xlink:href=\"#DejaVuSans-2e\"/>\n       <use x=\"95.410156\" xlink:href=\"#DejaVuSans-39\"/>\n       <use x=\"159.033203\" xlink:href=\"#DejaVuSans-36\"/>\n      </g>\n     </g>\n    </g>\n    <g id=\"ytick_7\">\n     <g id=\"line2d_14\">\n      <g>\n       <use style=\"stroke:#000000;stroke-width:0.8;\" x=\"36.465625\" xlink:href=\"#m38b81a9451\" y=\"23.013818\"/>\n      </g>\n     </g>\n     <g id=\"text_14\">\n      <!-- 0.98 -->\n      <g transform=\"translate(7.2 26.813037)scale(0.1 -0.1)\">\n       <use xlink:href=\"#DejaVuSans-30\"/>\n       <use x=\"63.623047\" xlink:href=\"#DejaVuSans-2e\"/>\n       <use x=\"95.410156\" xlink:href=\"#DejaVuSans-39\"/>\n       <use x=\"159.033203\" xlink:href=\"#DejaVuSans-38\"/>\n      </g>\n     </g>\n    </g>\n   </g>\n   <g id=\"line2d_15\">\n    <path clip-path=\"url(#pd8b306b5d5)\" d=\"M 51.683807 17.083636 \nL 62.553937 35.410909 \nL 73.424067 38.029091 \nL 84.294196 51.774545 \nL 95.164326 53.410909 \nL 106.034456 66.829091 \nL 116.904586 68.792727 \nL 127.774716 85.483636 \nL 138.644846 90.392727 \nL 149.514976 103.810909 \nL 160.385106 106.101818 \nL 171.255235 118.210909 \nL 182.125365 125.410909 \nL 192.995495 134.901818 \nL 203.865625 140.465455 \nL 214.735755 145.047273 \nL 225.605885 149.629091 \nL 236.476015 158.138182 \nL 247.346144 157.483636 \nL 258.216274 167.956364 \nL 269.086404 174.829091 \nL 279.956534 182.683636 \nL 290.826664 186.938182 \nL 301.696794 192.174545 \nL 312.566924 194.792727 \nL 323.437054 201.992727 \nL 334.307183 205.592727 \nL 345.177313 210.829091 \nL 356.047443 214.756364 \n\" style=\"fill:none;stroke:#1f77b4;stroke-linecap:square;stroke-width:1.5;\"/>\n   </g>\n   <g id=\"patch_3\">\n    <path d=\"M 36.465625 224.64 \nL 36.465625 7.2 \n\" style=\"fill:none;stroke:#000000;stroke-linecap:square;stroke-linejoin:miter;stroke-width:0.8;\"/>\n   </g>\n   <g id=\"patch_4\">\n    <path d=\"M 371.265625 224.64 \nL 371.265625 7.2 \n\" style=\"fill:none;stroke:#000000;stroke-linecap:square;stroke-linejoin:miter;stroke-width:0.8;\"/>\n   </g>\n   <g id=\"patch_5\">\n    <path d=\"M 36.465625 224.64 \nL 371.265625 224.64 \n\" style=\"fill:none;stroke:#000000;stroke-linecap:square;stroke-linejoin:miter;stroke-width:0.8;\"/>\n   </g>\n   <g id=\"patch_6\">\n    <path d=\"M 36.465625 7.2 \nL 371.265625 7.2 \n\" style=\"fill:none;stroke:#000000;stroke-linecap:square;stroke-linejoin:miter;stroke-width:0.8;\"/>\n   </g>\n  </g>\n </g>\n <defs>\n  <clipPath id=\"pd8b306b5d5\">\n   <rect height=\"217.44\" width=\"334.8\" x=\"36.465625\" y=\"7.2\"/>\n  </clipPath>\n </defs>\n</svg>\n",
      "image/png": "[encoded data removed]"
     },
     "metadata": {
      "needs_background": "light"
     }
    }
   ],
   "metadata": {}
  },
  {
   "cell_type": "code",
   "execution_count": 208,
   "source": [
    "knn = KNeighborsClassifier(n_neighbors=2)\n",
    "knn.fit(X_train, y_train)\n",
    "y_pred = knn.predict(X_test)\n",
    "score.append(metrics.accuracy_score(y_test, y_pred))\n",
    "print(\"Accuracy:\",metrics.accuracy_score(y_test, y_pred))\n"
   ],
   "outputs": [
    {
     "output_type": "stream",
     "name": "stdout",
     "text": [
      "Accuracy: 0.9722788422339992\n"
     ]
    }
   ],
   "metadata": {}
  },
  {
   "cell_type": "code",
   "execution_count": 209,
   "source": [
    "#KNN WORKED WELL BECAUSE THE DATA IS SCALED"
   ],
   "outputs": [],
   "metadata": {}
  },
  {
   "cell_type": "code",
   "execution_count": null,
   "source": [],
   "outputs": [],
   "metadata": {}
  }
 ],
 "metadata": {
  "kernelspec": {
   "name": "python3",
   "display_name": "Python 3.9.5 64-bit"
  },
  "language_info": {
   "codemirror_mode": {
    "name": "ipython",
    "version": 3
   },
   "file_extension": ".py",
   "mimetype": "text/x-python",
   "name": "python",
   "nbconvert_exporter": "python",
   "pygments_lexer": "ipython3",
   "version": "3.9.5"
  },
  "toc": {
   "base_numbering": 1,
   "nav_menu": {},
   "number_sections": true,
   "sideBar": true,
   "skip_h1_title": false,
   "title_cell": "Table of Contents",
   "title_sidebar": "Contents",
   "toc_cell": false,
   "toc_position": {},
   "toc_section_display": true,
   "toc_window_display": false
  },
  "varInspector": {
   "cols": {
    "lenName": 16,
    "lenType": 16,
    "lenVar": 40
   },
   "kernels_config": {
    "python": {
     "delete_cmd_postfix": "",
     "delete_cmd_prefix": "del ",
     "library": "var_list.py",
     "varRefreshCmd": "print(var_dic_list())"
    },
    "r": {
     "delete_cmd_postfix": ") ",
     "delete_cmd_prefix": "rm(",
     "library": "var_list.r",
     "varRefreshCmd": "cat(var_dic_list()) "
    }
   },
   "types_to_exclude": [
    "module",
    "function",
    "builtin_function_or_method",
    "instance",
    "_Feature"
   ],
   "window_display": false
  },
  "interpreter": {
   "hash": "e7370f93d1d0cde622a1f8e1c04877d8463912d04d973331ad4851f04de6915a"
  }
 },
 "nbformat": 4,
 "nbformat_minor": 2
}